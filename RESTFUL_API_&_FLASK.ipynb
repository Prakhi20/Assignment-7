{
  "nbformat": 4,
  "nbformat_minor": 0,
  "metadata": {
    "colab": {
      "provenance": [],
      "authorship_tag": "ABX9TyMS/fl3BTujcEo+NA+vqqxE",
      "include_colab_link": true
    },
    "kernelspec": {
      "name": "python3",
      "display_name": "Python 3"
    },
    "language_info": {
      "name": "python"
    }
  },
  "cells": [
    {
      "cell_type": "markdown",
      "metadata": {
        "id": "view-in-github",
        "colab_type": "text"
      },
      "source": [
        "<a href=\"https://colab.research.google.com/github/Prakhi20/Assignment-7/blob/main/RESTFUL_API_%26_FLASK.ipynb\" target=\"_parent\"><img src=\"https://colab.research.google.com/assets/colab-badge.svg\" alt=\"Open In Colab\"/></a>"
      ]
    },
    {
      "cell_type": "markdown",
      "source": [
        "# Restful API & Flask:"
      ],
      "metadata": {
        "id": "ho0obIXw1SsS"
      }
    },
    {
      "cell_type": "markdown",
      "source": [
        "## **Theory Question**"
      ],
      "metadata": {
        "id": "mlD4lkRv1kFM"
      }
    },
    {
      "cell_type": "markdown",
      "source": [
        "1. What is a RESTful API ?\n",
        "    - A RESTful API is an application ProgramProgramming interface that follows the principles of REST (Representational State Transfer). In Short, it:\n",
        "         - Uses standard HTTP method (GET,POST,PUT,DELETE) to perform operations.\n",
        "         - Work with resources (like data objects), identified by URLS.\n",
        "         - Is stateless, meaning each request contains all the information needed to process it.\n",
        "         - Typically returns data in formats like JSON or XML."
      ],
      "metadata": {
        "id": "q8JYEkYl1rfg"
      }
    },
    {
      "cell_type": "markdown",
      "source": [
        "2. Explain the concept of API Specification .\n",
        "    - An API Specification is a detailed description of how an API works. In short, it:\n",
        "       \n",
        "        - Defines the endpoints (URLs) and methods (GET, POST, etc).\n",
        "        - Specifies request and response formats (e.g., required parameters, data types, JSON structure).\n",
        "        - Describes authentication, error codes, and rate limits.\n",
        "        - Acts as a blueprint for developers to build and use the API correctly."
      ],
      "metadata": {
        "id": "DdLCK8443XR8"
      }
    },
    {
      "cell_type": "markdown",
      "source": [
        "3. What is Flask and why is it popular for building APIs ?\n",
        "    - Flask is a lightweight Python web framework used to build web applications & APIs.\n",
        "    - It is popular for building APIs because:\n",
        "         - It's simple and minimalistic, with no unnecessary features by default.\n",
        "         - Offers great flexibility and control.\n",
        "         - Supports extensions for things like authentication or database integration.\n",
        "         - Easy to learn and quick to set up for rapid development."
      ],
      "metadata": {
        "id": "TEjs0GVc2S0n"
      }
    },
    {
      "cell_type": "markdown",
      "source": [
        "4. What is routing in Flask ?\n",
        "    - Routing in Flask is the process of mapping URLs to functions.\n",
        "    - It tells Flask which function to run when a specific URL is accessed.\n",
        "    - Done using the @app.route() decorator.\n",
        "    - Each route corresponds to an endpoint in your app or API.  "
      ],
      "metadata": {
        "id": "b9jUaUmc3mqe"
      }
    },
    {
      "cell_type": "code",
      "source": [
        "# Import the Flask class\n",
        "from flask import Flask\n",
        "\n",
        "# Create a Flask application instance\n",
        "app = Flask(__name__)\n",
        "\n",
        "# eaxmple:\n",
        "@app.route('/hello')\n",
        "def hello():\n",
        "    return 'Hello, World!'"
      ],
      "metadata": {
        "id": "kwaNYL_h3mID"
      },
      "execution_count": null,
      "outputs": []
    },
    {
      "cell_type": "markdown",
      "source": [
        "5. How do you create a simple Flask application ?\n",
        "    - To create a simple Flask application:\n",
        "        1. Install Flask:\n",
        "            pip install Flask.\n",
        "        2. Create a Python file (e.g., app.app.py) with:\n",
        "            from flask import Flask\n",
        "            app = Flask(__name__)\n",
        "            @app.app.route('/')\n",
        "            def home():\n",
        "                return \"Hello, Flask!\"\n",
        "            if __name__ == '__main__':\n",
        "                app.app.run(debug=True)\n",
        "        3. Run tha app:\n",
        "             python app.py\n",
        "\n",
        "\n"
      ],
      "metadata": {
        "id": "DgpDJcwxEczi"
      }
    },
    {
      "cell_type": "markdown",
      "source": [
        "6. What are HTTP methods used in RESTful APIs ?\n",
        "    - The main HTTP methods used in RESTful APIs are:\n",
        "         - GET- Retrieve data\n",
        "         - POST- Create new data\n",
        "         - PUT- UpUpdate existing data\n",
        "         - DELETE- Remove data\n",
        "         - PATCH- Partially update data\n",
        "         - OPTIONS- Describe allowed methods for a resource."
      ],
      "metadata": {
        "id": "w51PH8MeHeWH"
      }
    },
    {
      "cell_type": "markdown",
      "source": [
        "7. What is the purpose of the @app.route() decorator  in Flask ?\n",
        "    - The purpose of the @app.route() decorator in Flask is to link a URL to a Python function.\n",
        "        - It defines a route (URL path) for your web app.\n",
        "        - Tells Flask which function to run when that route is accessed."
      ],
      "metadata": {
        "id": "wGacoPblHeLK"
      }
    },
    {
      "cell_type": "markdown",
      "source": [
        "8. What is the difference between GET and POST HTTP methods ?\n",
        "    - the difference between GET and POST HTTP methods (in short):\n",
        "       - **GET**:-\n",
        "           - Used to retrieve data.\n",
        "           - Parameters are sent in the URL.\n",
        "           - Not secure for Sensitive data.\n",
        "           - Can be bookmarked and cached.\n",
        "       - **POST**:-\n",
        "           - Used to send (create or submit) data.\n",
        "           - Data is sent in the request body.\n",
        "           - more secuire for sensitive data.\n",
        "           - Not cached or bookmarked.\n",
        "               "
      ],
      "metadata": {
        "id": "6EekOMBuJiUe"
      }
    },
    {
      "cell_type": "markdown",
      "source": [
        "9. How do you handle errors in Flask APIs. ?\n",
        "    - This can be done by registering error handlers. When Flask catches an exception while handling a request, it is first looked up by code. If no handler is registered for the code, Flask looks up the error by its class hierarchy; the most specific handler is chosen."
      ],
      "metadata": {
        "id": "3o07ASycLVkB"
      }
    },
    {
      "cell_type": "markdown",
      "source": [
        "10. How do you connect Flask to a SQL database ?\n",
        "    - To connect Flask to a SQL database:\n",
        "        1. Install SQLAlchemy (ORM for Flask):\n",
        "             pip install Flask-SQLAlchemy\n",
        "        2. Configure the database in your Flask app:\n",
        "             from flask import Flask\n",
        "             from flaskflask__sqlalchemy import SQLAlchemy\n",
        "             app = Flask(__name__)\n",
        "             app.config['SQLALCHEMY_DATABASE_URI'] = 'sqlite:///mydatabase.mydatabase.db'\n",
        "             db = SQLALchemy(app)\n",
        "        3. Define models (tables):\n",
        "            class user(db.model):\n",
        "                id = db.Column(db.Integer, primary_key = True)\n",
        "                name = db.column (db.String(100))\n",
        "   4. Create the database:\n",
        "            with app.app_context():\n",
        "               db.create_all()         \n",
        "                  "
      ],
      "metadata": {
        "id": "7w9AFqUgMupp"
      }
    },
    {
      "cell_type": "markdown",
      "source": [
        "11. What is the role of Flask_SQLAlchemy ?\n",
        "     - Flask-SQLAlchemy integrates SQLAlchemy with Flask, allowing you to easily manage databases using Python Classes (ORM), handle database connections, and perform Queries without writing raw SQL."
      ],
      "metadata": {
        "id": "pMlM4DCIOrKy"
      }
    },
    {
      "cell_type": "markdown",
      "source": [
        "12. What are Flask blueprints, and how are they useful ?\n",
        "      - Flask Blueprints allow to organize your app into reusable, modular components. They help structure large applications by grouping related routes and logic, making the code cleaner, more maintainable, and scalable."
      ],
      "metadata": {
        "id": "b_gzsGjJOq65"
      }
    },
    {
      "cell_type": "markdown",
      "source": [
        "13. What is the purpose of Flask's request object ?\n",
        "      - Flask's request object is used to access data sent by client in an HTTP request,such as formdata, JSON, query parameters, headers and more. It allows your Flask app to handle and respond to client input."
      ],
      "metadata": {
        "id": "omKddmh3Oq4C"
      }
    },
    {
      "cell_type": "markdown",
      "source": [
        "14. How do you create a RESTful API endpoint using Flask ?\n",
        "     - To create a RESTful API endpoint Using Flask, follow these steps:\n",
        "        \n",
        "        - **Step-by-step**:\n",
        "            1. Import Flask and related modules\n",
        "            2. Create a flask app\n",
        "            3. Define routes using @app.route()\n",
        "            4. Handle different HTTP methods (GET, POST, PUT, DELETE)\n",
        "            5. Return JSON responses using jsonify.\n",
        "            \n"
      ],
      "metadata": {
        "id": "7_ImdZaIVF-Q"
      }
    },
    {
      "cell_type": "markdown",
      "source": [
        "15. What is the purpose of Flask's jsonify() function ?\n",
        "     - Flask's jsonify() function is used to convert Python data (like dictionaries or lists) into a JSON response,which is the standard format for APIs. It also sets the correct Content-Type (application/json)."
      ],
      "metadata": {
        "id": "52UhBQI-XZnL"
      }
    },
    {
      "cell_type": "markdown",
      "source": [
        "16. Explain Flask's Url_for() functions.\n",
        "     - Flask's url_for() function generates the URL for a given view function name. It helps avoid hardcoding URLs and makes your app more maintainable and dynamic."
      ],
      "metadata": {
        "id": "Pg94DF_sYfsu"
      }
    },
    {
      "cell_type": "markdown",
      "source": [
        "17. How does Flask handle static files (CSS, JavaScript, etc.) ?\n",
        "     - Flask automatically serves static files like CSS and JavaScript from a folder named static/ in your project. You can access them in HTML using the url_for('static', filename='...\") function."
      ],
      "metadata": {
        "id": "nRJRPbB1ZrZP"
      }
    },
    {
      "cell_type": "markdown",
      "source": [
        "18. What is an API specification, and how does it help in building a Flask API ?\n",
        "     - An API specificationis detailed description of how an API works-including endpoint, methods, request/response formats, and authentication.\n",
        "    \n",
        "    - **How it helps in building a Flask API**:\n",
        "        - Provides clear plan for developers to follow.\n",
        "        - Ensures consistency across endpoints.\n",
        "        - Improves collaboration between forntend and backend teams.\n",
        "        - Enables auto-generation of documentation and client code (e.g., using Swagger/OpenAPI).\n",
        "        - Helps with testing by defining expected inputs and outputs."
      ],
      "metadata": {
        "id": "obhqlnP_bZXe"
      }
    },
    {
      "cell_type": "markdown",
      "source": [
        "19. What are HTTP status codes, and why are they important in a flask API ?\n",
        "     - HTTP status codes are standardized 3-digit codes returned by a server to indicate the result of client's request (e.g., success, error, or redirection).\n",
        "     - **Why they are important in a Flask API**:\n",
        "         - Communicate the outcome of API request (e.g., 200 ok, 404 not found, 400 bad request, 500 internal server error).\n",
        "         - Help client handle responses properly (e.g., retry on error, show messages to users).\n",
        "         - improve debugging and monitoring of API behavior.\n",
        "         - Ensure RESTful practices by clearly indicating request results."
      ],
      "metadata": {
        "id": "T7QmnwCodpbh"
      }
    },
    {
      "cell_type": "markdown",
      "source": [
        "20. How do you handle POST request in Flask ?\n",
        "     - To handle a POST request in Flask, define a route with methods = ['POST'] and access the incoming data using request.form, request.json, or request.data.\n"
      ],
      "metadata": {
        "id": "Q-e2zCGnMuNt"
      }
    },
    {
      "cell_type": "markdown",
      "source": [
        "21. How would you secure a Flask API ?\n",
        "    - To secure a Flask API, you should implement authentication, authorization, input validation, and HTTPs. Use proper error handling and avoid exposing sensitive data."
      ],
      "metadata": {
        "id": "7Mi3xJdFigsw"
      }
    },
    {
      "cell_type": "markdown",
      "source": [
        "22. What is the Significance of the Flask-RESTful extension ?\n",
        "     - Flask-RESTful is an extension that simplifies building RESTful APIs in Flask by providing tools for routing, request parsing, and structured responses. It helps organize API code using resource-based classes, making the code cleaner and more maintainable."
      ],
      "metadata": {
        "id": "TcPssXojjYUu"
      }
    },
    {
      "cell_type": "markdown",
      "source": [
        "23. What is the role of Flask's Session Object ?\n",
        "     - Flask's Session object is used to store data (like user information) across multiple requests from the same user. It keeps data between requests using cookies and is useful for managing user sessiomns (e.g., login state)"
      ],
      "metadata": {
        "id": "jAUTpsbYkzL1"
      }
    },
    {
      "cell_type": "markdown",
      "source": [
        "## **PRACTICAL QUESTIONS**:"
      ],
      "metadata": {
        "id": "glvTwY5kluAu"
      }
    },
    {
      "cell_type": "markdown",
      "source": [
        "1. How do you create a basic Flask Application ?"
      ],
      "metadata": {
        "id": "FLCKntmulzgO"
      }
    },
    {
      "cell_type": "markdown",
      "source": [
        "due to network problems i didn't able to run the codes. so many times I'm trying to connect to your support system but no answer thank you\n"
      ],
      "metadata": {
        "id": "krRuZgHRFyxI"
      }
    }
  ]
}